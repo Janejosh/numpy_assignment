{
 "cells": [
  {
   "cell_type": "code",
   "execution_count": 7,
   "id": "0a7a9de0",
   "metadata": {},
   "outputs": [],
   "source": [
    "import numpy as np"
   ]
  },
  {
   "cell_type": "code",
   "execution_count": 17,
   "id": "7973b79e",
   "metadata": {},
   "outputs": [],
   "source": [
    "name = ['Tunde', 'Mary', 'Mercy', 'Matthew', 'Esther']"
   ]
  },
  {
   "cell_type": "code",
   "execution_count": 18,
   "id": "06ac9da4",
   "metadata": {},
   "outputs": [],
   "source": [
    "subject = ['Physics', 'Geography', 'English']"
   ]
  },
  {
   "cell_type": "code",
   "execution_count": 6,
   "id": "18ad88ab",
   "metadata": {},
   "outputs": [],
   "source": [
    "students = [\n",
    "    {\"name\": \"Tunde\", \"scores\": (55, 74, 65)},\n",
    "    {\"name\": \"Mary\", \"scores\": (77, 76, 70)},\n",
    "    {\"name\": \"Mercy\", \"scores\": (80, 56, 61)},\n",
    "    {\"name\": \"Matthew\", \"scores\": (95, 71, 88)},\n",
    "    {\"name\": \"Esther\", \"scores\": (43, 61, 40)},\n",
    "]"
   ]
  },
  {
   "cell_type": "code",
   "execution_count": null,
   "id": "d3738a1f",
   "metadata": {},
   "outputs": [
    {
     "name": "stdout",
     "output_type": "stream",
     "text": [
      "Average score of each student:\n",
      "Tunde: 64.67\n",
      "Mary: 74.33\n",
      "Mercy: 65.67\n",
      "Matthew: 84.67\n",
      "Esther: 48.00\n"
     ]
    }
   ],
   "source": [
    "# 1. Write a function to calculate the average score of each student\n",
    "\n",
    "def average_scores(student_list):\n",
    "    print(\"Average score of each student:\")\n",
    "    for student in student_list:\n",
    "        average = np.mean(student[\"scores\"])\n",
    "        print(f\"{student['name']}: {average:.2f}\")\n",
    "\n",
    "average_scores(students)"
   ]
  },
  {
   "cell_type": "code",
   "execution_count": null,
   "id": "3c24c4b9",
   "metadata": {},
   "outputs": [
    {
     "name": "stdout",
     "output_type": "stream",
     "text": [
      "The highest student is Matthew with an average score of 84.67\n"
     ]
    }
   ],
   "source": [
    "# 2. Write a function to find the student with the highest average score\n",
    "\n",
    "def highest_average_student(student_list):\n",
    "    highest_student = None\n",
    "    highest_avg = 0\n",
    "\n",
    "    for student in student_list:\n",
    "        average = np.mean(student[\"scores\"])\n",
    "        if average > highest_avg:\n",
    "            highest_avg = average\n",
    "            highest_student = student[\"name\"]\n",
    "    print(f\"The highest student is {highest_student} with an average score of {highest_avg:.2f}\")\n",
    "\n",
    "highest_average_student(students)"
   ]
  },
  {
   "cell_type": "code",
   "execution_count": null,
   "id": "a1b10651",
   "metadata": {},
   "outputs": [
    {
     "name": "stdout",
     "output_type": "stream",
     "text": [
      "student average score:\n",
      "Tunde - Average score: 64.67\n",
      "Mary - Average score: 74.33\n",
      "Mercy - Average score: 65.67\n",
      "Matthew - Average score: 84.67\n",
      "Esther - Average score: 48.00\n"
     ]
    }
   ],
   "source": [
    "# 3. Write a function that prints each student's name alongside their average score\n",
    "\n",
    "def each_student_avg_score(student_list):\n",
    "    print(\"student average score:\")\n",
    "    for student in student_list:\n",
    "        avg = np.mean(student[\"scores\"])\n",
    "        print(f\"{student['name']} - Average score: {avg:.2f}\")\n",
    "\n",
    "each_student_avg_score(students)"
   ]
  },
  {
   "cell_type": "code",
   "execution_count": 16,
   "id": "3d296432",
   "metadata": {},
   "outputs": [
    {
     "name": "stdout",
     "output_type": "stream",
     "text": [
      "Overall Class Average Score: 67.47\n"
     ]
    }
   ],
   "source": [
    "# 4. Calculate and print the overall class average score using NumPy\n",
    "\n",
    "overall_scores = []\n",
    "for student in students:\n",
    "    overall_scores.extend(student[\"scores\"])\n",
    "overall_class_average = np.mean(overall_scores)\n",
    "\n",
    "print(f\"Overall Class Average Score: {overall_class_average:.2f}\")"
   ]
  },
  {
   "cell_type": "code",
   "execution_count": null,
   "id": "7ada4de1",
   "metadata": {},
   "outputs": [
    {
     "name": "stdout",
     "output_type": "stream",
     "text": [
      "Average score of each student:\n",
      "Tunde: 64.67\n",
      "Mary: 74.33\n",
      "Mercy: 65.67\n",
      "Matthew: 84.67\n",
      "Esther: 48.00\n",
      "The highest student is Matthew with an average score of 84.67\n",
      "student average score:\n",
      "Tunde - Average score: 64.67\n",
      "Mary - Average score: 74.33\n",
      "Mercy - Average score: 65.67\n",
      "Matthew - Average score: 84.67\n",
      "Esther - Average score: 48.00\n",
      "Overall Class Average Score: 67.47\n"
     ]
    }
   ],
   "source": [
    "# 5 & 6. Format all printed outputs neatly with clear labels and show result\n",
    "\n",
    "average_scores(students)\n",
    "\n",
    "highest_average_student(students)\n",
    "\n",
    "each_student_avg_score(students)\n",
    "\n",
    "print(f\"Overall Class Average Score: {overall_class_average:.2f}\")"
   ]
  }
 ],
 "metadata": {
  "kernelspec": {
   "display_name": ".venv",
   "language": "python",
   "name": "python3"
  },
  "language_info": {
   "codemirror_mode": {
    "name": "ipython",
    "version": 3
   },
   "file_extension": ".py",
   "mimetype": "text/x-python",
   "name": "python",
   "nbconvert_exporter": "python",
   "pygments_lexer": "ipython3",
   "version": "3.13.3"
  }
 },
 "nbformat": 4,
 "nbformat_minor": 5
}
